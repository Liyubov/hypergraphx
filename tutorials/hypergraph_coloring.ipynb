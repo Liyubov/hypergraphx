{
  "cells": [
    {
      "cell_type": "markdown",
      "source": [
        "# Hypergraph generation\n",
        "\n",
        "# Hypergraph coloring\n",
        "\n",
        "We assign additional value to each node (belonging to colors of types 0,1...k).\n",
        "\n",
        "This can be done using \"add_attr_meta\" to the hypergraph nodes.\n"
      ],
      "metadata": {
        "id": "ZrwLJ_LdGNBV"
      }
    },
    {
      "cell_type": "code",
      "execution_count": 3,
      "metadata": {
        "id": "v6m_9x0QBTNO"
      },
      "outputs": [],
      "source": [
        "import sys\n",
        "sys.path.append(\"..\")\n",
        "\n",
        "from hypergraphx.generation.scale_free import scale_free_hypergraph\n",
        "from hypergraphx.linalg import *\n",
        "from hypergraphx.representations.projections import bipartite_projection, clique_projection\n",
        "from hypergraphx.generation.random import *\n",
        "from hypergraphx.readwrite.save import save_hypergraph\n",
        "from hypergraphx.readwrite.load import load_hypergraph\n",
        "from hypergraphx.viz.draw_hypergraph import draw_hypergraph"
      ]
    },
    {
      "cell_type": "code",
      "source": [
        "!pip install hypergraphx"
      ],
      "metadata": {
        "colab": {
          "base_uri": "https://localhost:8080/"
        },
        "id": "Oxi7XFA1CLFF",
        "outputId": "9c434719-ccc5-4a50-a3c5-45ef0d026fef"
      },
      "execution_count": 2,
      "outputs": [
        {
          "output_type": "stream",
          "name": "stdout",
          "text": [
            "Collecting hypergraphx\n",
            "  Downloading hypergraphx-1.6-py3-none-any.whl (87 kB)\n",
            "\u001b[?25l     \u001b[90m━━━━━━━━━━━━━━━━━━━━━━━━━━━━━━━━━━━━━━━━\u001b[0m \u001b[32m0.0/87.0 kB\u001b[0m \u001b[31m?\u001b[0m eta \u001b[36m-:--:--\u001b[0m\r\u001b[2K     \u001b[90m━━━━━━━━━━━━━━━━━━━━━━━━━━━━━━━━━━━━━━━━\u001b[0m \u001b[32m87.0/87.0 kB\u001b[0m \u001b[31m3.3 MB/s\u001b[0m eta \u001b[36m0:00:00\u001b[0m\n",
            "\u001b[?25hRequirement already satisfied: numpy in /usr/local/lib/python3.10/dist-packages (from hypergraphx) (1.23.5)\n",
            "Requirement already satisfied: scipy in /usr/local/lib/python3.10/dist-packages (from hypergraphx) (1.11.3)\n",
            "Requirement already satisfied: networkx in /usr/local/lib/python3.10/dist-packages (from hypergraphx) (3.1)\n",
            "Requirement already satisfied: pandas in /usr/local/lib/python3.10/dist-packages (from hypergraphx) (1.5.3)\n",
            "Requirement already satisfied: scikit-learn in /usr/local/lib/python3.10/dist-packages (from hypergraphx) (1.2.2)\n",
            "Requirement already satisfied: pytest in /usr/local/lib/python3.10/dist-packages (from hypergraphx) (7.4.2)\n",
            "Requirement already satisfied: matplotlib in /usr/local/lib/python3.10/dist-packages (from hypergraphx) (3.7.1)\n",
            "Requirement already satisfied: seaborn in /usr/local/lib/python3.10/dist-packages (from hypergraphx) (0.12.2)\n",
            "Requirement already satisfied: contourpy>=1.0.1 in /usr/local/lib/python3.10/dist-packages (from matplotlib->hypergraphx) (1.1.1)\n",
            "Requirement already satisfied: cycler>=0.10 in /usr/local/lib/python3.10/dist-packages (from matplotlib->hypergraphx) (0.12.0)\n",
            "Requirement already satisfied: fonttools>=4.22.0 in /usr/local/lib/python3.10/dist-packages (from matplotlib->hypergraphx) (4.43.0)\n",
            "Requirement already satisfied: kiwisolver>=1.0.1 in /usr/local/lib/python3.10/dist-packages (from matplotlib->hypergraphx) (1.4.5)\n",
            "Requirement already satisfied: packaging>=20.0 in /usr/local/lib/python3.10/dist-packages (from matplotlib->hypergraphx) (23.2)\n",
            "Requirement already satisfied: pillow>=6.2.0 in /usr/local/lib/python3.10/dist-packages (from matplotlib->hypergraphx) (9.4.0)\n",
            "Requirement already satisfied: pyparsing>=2.3.1 in /usr/local/lib/python3.10/dist-packages (from matplotlib->hypergraphx) (3.1.1)\n",
            "Requirement already satisfied: python-dateutil>=2.7 in /usr/local/lib/python3.10/dist-packages (from matplotlib->hypergraphx) (2.8.2)\n",
            "Requirement already satisfied: pytz>=2020.1 in /usr/local/lib/python3.10/dist-packages (from pandas->hypergraphx) (2023.3.post1)\n",
            "Requirement already satisfied: iniconfig in /usr/local/lib/python3.10/dist-packages (from pytest->hypergraphx) (2.0.0)\n",
            "Requirement already satisfied: pluggy<2.0,>=0.12 in /usr/local/lib/python3.10/dist-packages (from pytest->hypergraphx) (1.3.0)\n",
            "Requirement already satisfied: exceptiongroup>=1.0.0rc8 in /usr/local/lib/python3.10/dist-packages (from pytest->hypergraphx) (1.1.3)\n",
            "Requirement already satisfied: tomli>=1.0.0 in /usr/local/lib/python3.10/dist-packages (from pytest->hypergraphx) (2.0.1)\n",
            "Requirement already satisfied: joblib>=1.1.1 in /usr/local/lib/python3.10/dist-packages (from scikit-learn->hypergraphx) (1.3.2)\n",
            "Requirement already satisfied: threadpoolctl>=2.0.0 in /usr/local/lib/python3.10/dist-packages (from scikit-learn->hypergraphx) (3.2.0)\n",
            "Requirement already satisfied: six>=1.5 in /usr/local/lib/python3.10/dist-packages (from python-dateutil>=2.7->matplotlib->hypergraphx) (1.16.0)\n",
            "Installing collected packages: hypergraphx\n",
            "Successfully installed hypergraphx-1.6\n"
          ]
        }
      ]
    },
    {
      "cell_type": "code",
      "execution_count": 4,
      "metadata": {
        "colab": {
          "base_uri": "https://localhost:8080/"
        },
        "id": "42x0gG-YBTNV",
        "outputId": "3d24a27e-b15f-4298-9c80-b269ad29aa1b"
      },
      "outputs": [
        {
          "output_type": "stream",
          "name": "stdout",
          "text": [
            "Hypergraph with 8 nodes and 5 edges.\n",
            "Distribution of hyperedge sizes: {2: 3, 4: 1, 3: 1}\n"
          ]
        }
      ],
      "source": [
        "H = Hypergraph([(1, 3), (1, 4), (1, 2), (5, 6, 7, 8), (1, 2, 3)])\n",
        "print(H)"
      ]
    },
    {
      "cell_type": "markdown",
      "source": [
        "# Get weights of edges"
      ],
      "metadata": {
        "id": "rknZS5V2gz9k"
      }
    },
    {
      "cell_type": "code",
      "execution_count": 7,
      "metadata": {
        "id": "sBrU0px8BTNZ"
      },
      "outputs": [],
      "source": [
        "H = Hypergraph([(1, 3), (1, 4), (1, 2), (5, 6, 7, 8), (1, 2, 3)], weighted=True, weights=[1, 2, 3, 4, 5])"
      ]
    },
    {
      "cell_type": "code",
      "execution_count": null,
      "metadata": {
        "id": "cF9EsWfSBTNb",
        "outputId": "24c3d2a8-ac74-417a-8389-0e4a1df7706d"
      },
      "outputs": [
        {
          "data": {
            "text/plain": [
              "[(1, 3), (1, 4), (1, 2), (5, 6, 7, 8), (1, 2, 3)]"
            ]
          },
          "execution_count": 8,
          "metadata": {},
          "output_type": "execute_result"
        }
      ],
      "source": [
        "H.get_edges()"
      ]
    },
    {
      "cell_type": "code",
      "execution_count": null,
      "metadata": {
        "id": "LlyYr7-aBTNe",
        "outputId": "a954135e-7795-45c6-9f42-a80c9854e749"
      },
      "outputs": [
        {
          "data": {
            "text/plain": [
              "[1, 2, 3, 4, 5]"
            ]
          },
          "execution_count": 9,
          "metadata": {},
          "output_type": "execute_result"
        }
      ],
      "source": [
        "H.get_weights()"
      ]
    },
    {
      "cell_type": "code",
      "execution_count": null,
      "metadata": {
        "id": "JutrrfSjBTNh",
        "outputId": "a8d3da91-81e0-4b2f-dadc-4366b42f1d44"
      },
      "outputs": [
        {
          "name": "stdout",
          "output_type": "stream",
          "text": [
            "((1, 3), 1)\n",
            "((1, 4), 2)\n",
            "((1, 2), 3)\n",
            "((5, 6, 7, 8), 4)\n",
            "((1, 2, 3), 5)\n"
          ]
        }
      ],
      "source": [
        "for edge in H:\n",
        "    print(edge)"
      ]
    },
    {
      "cell_type": "code",
      "execution_count": null,
      "metadata": {
        "id": "5QU9n-bmBTNk",
        "outputId": "2b2b5347-87f7-4e14-a4db-8b934cf4a816"
      },
      "outputs": [
        {
          "data": {
            "text/plain": [
              "5"
            ]
          },
          "execution_count": 11,
          "metadata": {},
          "output_type": "execute_result"
        }
      ],
      "source": [
        "H.get_weight((1, 2, 3))"
      ]
    },
    {
      "cell_type": "code",
      "execution_count": null,
      "metadata": {
        "id": "m8QyGANXBTNm",
        "outputId": "1e2ec193-658c-43a9-e3a8-3b4d5b5a8d01"
      },
      "outputs": [
        {
          "data": {
            "text/plain": [
              "5"
            ]
          },
          "execution_count": 12,
          "metadata": {},
          "output_type": "execute_result"
        }
      ],
      "source": [
        "H.get_weight((2, 3, 1))"
      ]
    },
    {
      "cell_type": "code",
      "execution_count": null,
      "metadata": {
        "id": "JtkH6ytnBTNo",
        "outputId": "3d202fad-fedc-4b53-f3f7-304719b6f2c4"
      },
      "outputs": [
        {
          "data": {
            "text/plain": [
              "False"
            ]
          },
          "execution_count": 13,
          "metadata": {},
          "output_type": "execute_result"
        }
      ],
      "source": [
        "H.is_connected()"
      ]
    },
    {
      "cell_type": "code",
      "execution_count": null,
      "metadata": {
        "id": "q63xzMjJBTNt",
        "outputId": "003e3334-8584-49b3-ead1-c8812ed7a18c"
      },
      "outputs": [
        {
          "data": {
            "image/png": "[encoded data removed]",
            "text/plain": [
              "<Figure size 1200x700 with 1 Axes>"
            ]
          },
          "metadata": {},
          "output_type": "display_data"
        }
      ],
      "source": [
        "draw_hypergraph(H)"
      ]
    },
    {
      "cell_type": "code",
      "execution_count": 8,
      "metadata": {
        "id": "tbcPkvjTBTNv"
      },
      "outputs": [],
      "source": [
        "H.add_edge((1,5), weight=10)"
      ]
    },
    {
      "cell_type": "code",
      "execution_count": null,
      "metadata": {
        "id": "CVcagftpBTNz",
        "outputId": "8e487d5d-5641-494a-f760-ec9cdbdc7c7e"
      },
      "outputs": [
        {
          "data": {
            "image/png": "[encoded data removed]",
            "text/plain": [
              "<Figure size 1200x700 with 1 Axes>"
            ]
          },
          "metadata": {},
          "output_type": "display_data"
        }
      ],
      "source": [
        "draw_hypergraph(H)"
      ]
    },
    {
      "cell_type": "code",
      "execution_count": null,
      "metadata": {
        "id": "iza8AOn-BTN0",
        "outputId": "ad1421a0-75fd-409b-cc31-22280be60a41"
      },
      "outputs": [
        {
          "data": {
            "text/plain": [
              "True"
            ]
          },
          "execution_count": 17,
          "metadata": {},
          "output_type": "execute_result"
        }
      ],
      "source": [
        "H.is_connected()"
      ]
    },
    {
      "cell_type": "code",
      "execution_count": null,
      "metadata": {
        "id": "2N8G9_tnBTN2",
        "outputId": "7773e036-8f65-4f20-fddc-905b7ea8e3c6"
      },
      "outputs": [
        {
          "data": {
            "text/plain": [
              "False"
            ]
          },
          "execution_count": 18,
          "metadata": {},
          "output_type": "execute_result"
        }
      ],
      "source": [
        "H.is_uniform()"
      ]
    },
    {
      "cell_type": "code",
      "execution_count": null,
      "metadata": {
        "id": "KQiffmHdBTN3",
        "outputId": "9d0205f4-27e6-41fe-c6b9-e38773fde42b"
      },
      "outputs": [
        {
          "name": "stdout",
          "output_type": "stream",
          "text": [
            "True\n"
          ]
        }
      ],
      "source": [
        "print(H.check_edge((5, 6, 7, 8)))\n",
        "H.remove_edge((5, 6, 7, 8))"
      ]
    },
    {
      "cell_type": "code",
      "execution_count": null,
      "metadata": {
        "id": "dysO1RMDBTN4",
        "outputId": "a279ca45-d34e-46cc-c078-32b0b12e9f01"
      },
      "outputs": [
        {
          "name": "stdout",
          "output_type": "stream",
          "text": [
            "[(1, 3), (1, 4), (1, 2), (1, 2, 3), (1, 5)]\n",
            "[1, 2, 3, 5, 10]\n"
          ]
        }
      ],
      "source": [
        "print(H.get_edges())\n",
        "print(H.get_weights())\n",
        "H.remove_edges([(1,2,3), (1,3)])"
      ]
    },
    {
      "cell_type": "code",
      "execution_count": null,
      "metadata": {
        "id": "1S_4EV53BTN7",
        "outputId": "3b6994d1-521e-4b19-9f67-5ddf5777f83b"
      },
      "outputs": [
        {
          "name": "stdout",
          "output_type": "stream",
          "text": [
            "[(1, 4), (1, 2), (1, 5)]\n",
            "True\n"
          ]
        }
      ],
      "source": [
        "print(H.get_edges())\n",
        "print(H.is_uniform())"
      ]
    },
    {
      "cell_type": "code",
      "execution_count": null,
      "metadata": {
        "id": "oxQExl5NBTN8",
        "outputId": "182ba70d-f33e-4a9c-bfe5-631f26cabb08"
      },
      "outputs": [
        {
          "data": {
            "text/plain": [
              "[(1, 4), (1, 2), (1, 5)]"
            ]
          },
          "execution_count": 22,
          "metadata": {},
          "output_type": "execute_result"
        }
      ],
      "source": [
        "H.get_edges()"
      ]
    },
    {
      "cell_type": "code",
      "execution_count": null,
      "metadata": {
        "id": "TJ-DELMnBTN9"
      },
      "outputs": [],
      "source": [
        "H.add_attr_meta(1, 'role', 'student')"
      ]
    },
    {
      "cell_type": "markdown",
      "source": [
        "# Adding colors as attributes of nodes"
      ],
      "metadata": {
        "id": "d5h0bEu0Jhsy"
      }
    },
    {
      "cell_type": "code",
      "source": [
        "H.add_attr_meta(1,'color', '1')\n",
        "\n",
        "H.add_attr_meta(2,'color', '2')"
      ],
      "metadata": {
        "id": "72R6KUUbJkh2"
      },
      "execution_count": 9,
      "outputs": []
    },
    {
      "cell_type": "code",
      "execution_count": 10,
      "metadata": {
        "colab": {
          "base_uri": "https://localhost:8080/"
        },
        "id": "ZLlBf7m5BTN9",
        "outputId": "f1f7139f-80db-4d33-ae88-b2fd809e1c55"
      },
      "outputs": [
        {
          "output_type": "execute_result",
          "data": {
            "text/plain": [
              "[(1, {'type': 'node', 'name': 1, 'color': '1'}),\n",
              " (3, {'type': 'node', 'name': 3}),\n",
              " (4, {'type': 'node', 'name': 4}),\n",
              " (2, {'type': 'node', 'name': 2, 'color': '2'}),\n",
              " (5, {'type': 'node', 'name': 5}),\n",
              " (6, {'type': 'node', 'name': 6}),\n",
              " (7, {'type': 'node', 'name': 7}),\n",
              " (8, {'type': 'node', 'name': 8})]"
            ]
          },
          "metadata": {},
          "execution_count": 10
        }
      ],
      "source": [
        "H.get_nodes(metadata=True)"
      ]
    },
    {
      "cell_type": "code",
      "source": [],
      "metadata": {
        "id": "OKFbXkilo_J7"
      },
      "execution_count": 19,
      "outputs": []
    },
    {
      "cell_type": "code",
      "execution_count": null,
      "metadata": {
        "id": "ueC2nnY0BTN-"
      },
      "outputs": [],
      "source": [
        "H.remove_node(1)"
      ]
    },
    {
      "cell_type": "code",
      "execution_count": 11,
      "metadata": {
        "colab": {
          "base_uri": "https://localhost:8080/"
        },
        "id": "6p1cgwzaBTN_",
        "outputId": "7803d4a0-7d3b-4f4a-f5c2-b00f7bd05b73"
      },
      "outputs": [
        {
          "output_type": "execute_result",
          "data": {
            "text/plain": [
              "[(1, {'type': 'node', 'name': 1, 'color': '1'}),\n",
              " (3, {'type': 'node', 'name': 3}),\n",
              " (4, {'type': 'node', 'name': 4}),\n",
              " (2, {'type': 'node', 'name': 2, 'color': '2'}),\n",
              " (5, {'type': 'node', 'name': 5}),\n",
              " (6, {'type': 'node', 'name': 6}),\n",
              " (7, {'type': 'node', 'name': 7}),\n",
              " (8, {'type': 'node', 'name': 8})]"
            ]
          },
          "metadata": {},
          "execution_count": 11
        }
      ],
      "source": [
        "H.get_nodes(metadata=True)"
      ]
    },
    {
      "cell_type": "code",
      "source": [],
      "metadata": {
        "id": "i40C0XetlFSO"
      },
      "execution_count": null,
      "outputs": []
    },
    {
      "cell_type": "markdown",
      "source": [
        "\n",
        "# Motifs\n",
        "From Motifs tutorial GHX\n",
        "\n",
        "Motifs are small recurring patterns of subgraphs that are overrepresented in a network. Motif analysis has established itself as a fundamental tool in network science to describe networked systems at their microscale, identifying their structural and functional building blocks.\n",
        "\n",
        "We provide an implementation for higher-order motif analysis, extracting overabundant subgraphs of nodes connected by higher-order interactions, as originally defined in Lotito, Q.F., Musciotto, F., Montresor, A. et al. Higher-order motif analysis in hypergraphs. Commun Phys 5, 79 (2022).\n",
        "\n",
        "# Colored motifs\n",
        "\n",
        "Based on the color of the nodes we want to access the hypergraph motifs.\n"
      ],
      "metadata": {
        "id": "z_asBk86lHCT"
      }
    },
    {
      "cell_type": "code",
      "source": [
        "import sys\n",
        "sys.path.append(\"..\")\n",
        "\n",
        "import hypergraphx as hgx\n",
        "from hypergraphx.motifs import compute_motifs\n",
        "from hypergraphx.readwrite import load_hypergraph\n",
        "from hypergraphx.viz import plot_motifs\n",
        "\n",
        "# Here we load the dataset \"high school\" from our data repository\n",
        "\n",
        "H = load_hypergraph(\"../test_data/hs/hs.json\", file_type=\"json\")\n",
        "\n"
      ],
      "metadata": {
        "id": "Clexvr-PlYzV"
      },
      "execution_count": 13,
      "outputs": []
    },
    {
      "cell_type": "code",
      "source": [
        "# for non colored motifs we will use prebuilt function\n",
        "motifs = compute_motifs(H, order=3, runs_config_model=5)"
      ],
      "metadata": {
        "id": "pfLmkMaTmBsN"
      },
      "execution_count": null,
      "outputs": []
    },
    {
      "cell_type": "code",
      "source": [
        "from hypergraphx.generation.configuration_model import configuration_model\n",
        "from hypergraphx.motifs.utils import (\n",
        "    _motifs_ho_full,\n",
        "    _motifs_ho_not_full,\n",
        "    _motifs_standard,\n",
        "    diff_sum, norm_vector,\n",
        ")\n",
        "\n",
        "def colors_subgraph(hypergraph):\n",
        "    #return subgraph colors\n",
        "    H.get_attr_meta\n",
        "\n",
        "def compute_colored_motifs(hypergraph: Hypergraph, order=3, attr='color'):\n",
        "    # we need to define attribute attr (default attribute is color) based on which we will calculate motifs\n",
        "    #(hypergraph: Hypergraph, order=3, runs_config_model=10):\n",
        "    \"\"\"\n",
        "    Compute the number of motifs of a given order in a hypergraph.\n",
        "\n",
        "    Parameters\n",
        "    ----------\n",
        "    hypergraph : Hypergraph\n",
        "        The hypergraph of interest\n",
        "    order : int\n",
        "        The order of the motifs to compute\n",
        "    runs_config_model : int\n",
        "        The number of runs of the configuration model\n",
        "\n",
        "    Returns\n",
        "    -------\n",
        "    dict\n",
        "        keys: 'observed', 'config_model', 'norm_delta'\n",
        "        'observed' reports the number of occurrences of each motif in the observed hypergraph\n",
        "        'config_model' reports the number of occurrences of each motif in each sample of the configuration model\n",
        "        'norm_delta' reports the norm of the difference between the observed and the configuration model\n",
        "\n",
        "    \"\"\"\n",
        "\n",
        "    def _motifs_order_3_color(edges):\n",
        "        '''\n",
        "        there are 4 different motifs coloring for motifs of size 3:\n",
        "        due to symmetry\n",
        "        res_color_0 = # 0 colored node out of 3\n",
        "        res_color_1 = # 1 colored node out of 3\n",
        "        res_color_2 = # 2 colored node out of 2\n",
        "        res_color_3 = # 3 colored node out of 3\n",
        "        '''\n",
        "        full, visited = _motifs_ho_full(edges, 3)\n",
        "        standard = _motifs_standard(edges, 3, visited)\n",
        "\n",
        "        res_non_color = []\n",
        "        for i in range(len(full)):\n",
        "            res_non_color.append((full[i][0], max(full[i][1], standard[i][1])))\n",
        "\n",
        "        res_color_0 = []\n",
        "        for i in range(len(full)):\n",
        "            if colors_subgraph(H) == 0: #if only 1 attribute in the motif is colored\n",
        "                res_non_color.append((full[i][0], max(full[i][1], standard[i][1])))\n",
        "\n",
        "\n",
        "        res_color_1 = []\n",
        "        for i in range(len(full)):\n",
        "            if colors_subgraph(H) == 1: #if 1 attribute in the motif is colored\n",
        "                res_non_color.append((full[i][0], max(full[i][1], standard[i][1])))\n",
        "\n",
        "        return res_non_color"
      ],
      "metadata": {
        "id": "9TTgekdVmL6t"
      },
      "execution_count": 16,
      "outputs": []
    },
    {
      "cell_type": "code",
      "source": [],
      "metadata": {
        "id": "qftkzI6pmWjB"
      },
      "execution_count": null,
      "outputs": []
    }
  ],
  "metadata": {
    "kernelspec": {
      "display_name": "Python 3",
      "language": "python",
      "name": "python3"
    },
    "language_info": {
      "codemirror_mode": {
        "name": "ipython",
        "version": 3
      },
      "file_extension": ".py",
      "mimetype": "text/x-python",
      "name": "python",
      "nbconvert_exporter": "python",
      "pygments_lexer": "ipython3",
      "version": "3.9.9"
    },
    "orig_nbformat": 4,
    "colab": {
      "provenance": []
    }
  },
  "nbformat": 4,
  "nbformat_minor": 0
}